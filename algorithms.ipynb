{
 "cells": [
  {
   "cell_type": "code",
   "execution_count": 1,
   "metadata": {},
   "outputs": [],
   "source": [
    "########################################################################################################################\n",
    "# Sorting\n",
    "########################################################################################################################\n"
   ]
  },
  {
   "cell_type": "code",
   "execution_count": 17,
   "metadata": {},
   "outputs": [
    {
     "name": "stdout",
     "output_type": "stream",
     "text": [
      "[10, 9, 8, 7, 6, 5, 4, 3, 2, 1]\n",
      "[1, 2, 3, 4, 5, 6, 7, 8, 9, 10]\n"
     ]
    }
   ],
   "source": [
    "# Bubble sort\n",
    "\n",
    "\n",
    "def bubble_sort(mas):\n",
    "    for i in range(len(mas) - 1):\n",
    "        for j in range(len(mas) - 1 - i):\n",
    "            if mas[j] > mas[j + 1]:\n",
    "                mas[j], mas[j + 1] = mas[j + 1], mas[j]\n",
    "    return mas\n",
    "\n",
    "\n",
    "mas = [10, 9, 8, 7, 6, 5, 4, 3, 2, 1]\n",
    "print(mas)\n",
    "mas = bubble_sort(mas)\n",
    "print(mas)\n"
   ]
  },
  {
   "cell_type": "code",
   "execution_count": 33,
   "metadata": {},
   "outputs": [
    {
     "name": "stdout",
     "output_type": "stream",
     "text": [
      "[10, 9, 8, 7, 6, 5, 4, 3, 2, 1]\n",
      "[1, 2, 3, 4, 5, 6, 7, 8, 9, 10]\n"
     ]
    }
   ],
   "source": [
    "# Insertion sort\n",
    "\n",
    "\n",
    "def insertion_sort(mas):\n",
    "    for i in range(1, len(mas)):\n",
    "        key = mas[i]\n",
    "        j = i - 1\n",
    "        while j >= 0 and key < mas[j]:\n",
    "            mas[j + 1] = mas[j]\n",
    "            j -= 1\n",
    "        mas[j + 1] = key\n",
    "    return mas\n",
    "\n",
    "\n",
    "mas = [10, 9, 8, 7, 6, 5, 4, 3, 2, 1]\n",
    "print(mas)\n",
    "mas = insertion_sort(mas)\n",
    "print(mas)\n"
   ]
  },
  {
   "cell_type": "code",
   "execution_count": 23,
   "metadata": {},
   "outputs": [
    {
     "name": "stdout",
     "output_type": "stream",
     "text": [
      "[10, 9, 8, 7, 6, 5, 4, 3, 2, 1]\n",
      "[1, 2, 3, 4, 5, 6, 7, 8, 9, 10]\n"
     ]
    }
   ],
   "source": [
    "# Selection sort\n",
    "\n",
    "\n",
    "from typing import List\n",
    "\n",
    "\n",
    "def idx_min_element(mas: List[int]) -> int:\n",
    "    min_elem = mas[0]\n",
    "    min_idx = 0\n",
    "\n",
    "    for idx, element in enumerate(mas):\n",
    "        if min_elem > element:\n",
    "            min_elem = element\n",
    "            min_idx = idx\n",
    "\n",
    "    return min_idx\n",
    "\n",
    "\n",
    "def selection_sort(mas: List[int]) -> List[int]:\n",
    "    new_mas = list()\n",
    "\n",
    "    for i in range(len(mas)):\n",
    "        idx = idx_min_element(mas)\n",
    "        new_mas.append(mas.pop(idx))\n",
    "\n",
    "    return new_mas\n",
    "\n",
    "\n",
    "mas = [10, 9, 8, 7, 6, 5, 4, 3, 2, 1]\n",
    "print(mas)\n",
    "mas = selection_sort(mas)\n",
    "print(mas)\n"
   ]
  },
  {
   "cell_type": "code",
   "execution_count": 24,
   "metadata": {},
   "outputs": [
    {
     "name": "stdout",
     "output_type": "stream",
     "text": [
      "[10, 9, 8, 7, 6, 5, 4, 3, 2, 1]\n",
      "[1, 2, 3, 4, 5, 6, 7, 8, 9, 10]\n"
     ]
    }
   ],
   "source": [
    "# Quick sort\n",
    "\n",
    "\n",
    "def partition(mas, low, high):\n",
    "    pivot = mas[int((low + high) / 2)]\n",
    "    i = low\n",
    "    j = high\n",
    "\n",
    "    while True:\n",
    "        while mas[i] < pivot:\n",
    "            i = i + 1\n",
    "        while mas[j] > pivot:\n",
    "            j = j - 1\n",
    "        if i >= j:\n",
    "            return j\n",
    "        mas[i], mas[j] = mas[j], mas[i]\n",
    "\n",
    "\n",
    "def quick_sort(mas, low, high):\n",
    "    if len(mas) == 1:\n",
    "        return mas\n",
    "    if low < high:\n",
    "        pi = partition(mas, low, high)\n",
    "        quick_sort(mas, low, pi - 1)\n",
    "        quick_sort(mas, pi + 1, high)\n",
    "    return mas\n",
    "\n",
    "\n",
    "mas = [10, 9, 8, 7, 6, 5, 4, 3, 2, 1]\n",
    "print(mas)\n",
    "mas = quick_sort(mas, 0, len(mas) - 1)\n",
    "print(mas)\n"
   ]
  },
  {
   "cell_type": "code",
   "execution_count": 35,
   "metadata": {},
   "outputs": [
    {
     "name": "stdout",
     "output_type": "stream",
     "text": [
      "[10, 9, 8, 7, 6, 5, 4, 3, 2, 1]\n",
      "[1, 2, 3, 4, 5, 6, 7, 8, 9, 10]\n"
     ]
    }
   ],
   "source": [
    "# Quick sort\n",
    "\n",
    "\n",
    "from typing import List\n",
    "\n",
    "\n",
    "def quick_sort(mas: List[int]) -> List[int]:\n",
    "    if len(mas) < 2:\n",
    "        return mas\n",
    "    else:\n",
    "        pivot = mas[0]\n",
    "        less_mas = [i for i in mas[1:] if i <= pivot]\n",
    "        greater_mas = [i for i in mas[1:] if i > pivot]\n",
    "        return quick_sort(less_mas) + [pivot] + quick_sort(greater_mas)\n",
    "\n",
    "\n",
    "mas = [10, 9, 8, 7, 6, 5, 4, 3, 2, 1]\n",
    "print(mas)\n",
    "mas = quick_sort(mas)\n",
    "print(mas)\n"
   ]
  },
  {
   "cell_type": "code",
   "execution_count": 36,
   "metadata": {},
   "outputs": [
    {
     "name": "stdout",
     "output_type": "stream",
     "text": [
      "[10, 9, 8, 7, 6, 5, 4, 3, 2, 1]\n",
      "[1, 2, 3, 4, 5, 6, 7, 8, 9, 10]\n"
     ]
    }
   ],
   "source": [
    "# Merge sort\n",
    "\n",
    "\n",
    "def merge_sort(mas):\n",
    "    if len(mas) < 2:\n",
    "        return mas\n",
    "    else:\n",
    "        middle = int(len(mas) / 2)\n",
    "        left = merge_sort(mas[:middle])\n",
    "        right = merge_sort(mas[middle:])\n",
    "        return merge(left, right)\n",
    "\n",
    "\n",
    "def merge(left, right):\n",
    "    result = []\n",
    "    i, j = 0, 0\n",
    "\n",
    "    while i < len(left) and j < len(right):\n",
    "        if left[i] < right[j]:\n",
    "            result.append(left[i])\n",
    "            i += 1\n",
    "        else:\n",
    "            result.append(right[j])\n",
    "            j += 1\n",
    "\n",
    "    while i < len(left):\n",
    "        result.append(left[i])\n",
    "        i += 1\n",
    "\n",
    "    while j < len(right):\n",
    "        result.append(right[j])\n",
    "        j += 1\n",
    "\n",
    "    return result\n",
    "\n",
    "\n",
    "mas = [10, 9, 8, 7, 6, 5, 4, 3, 2, 1]\n",
    "print(mas)\n",
    "mas = merge_sort(mas)\n",
    "print(mas)\n"
   ]
  },
  {
   "cell_type": "code",
   "execution_count": 37,
   "metadata": {},
   "outputs": [],
   "source": [
    "########################################################################################################################\n",
    "# Others\n",
    "########################################################################################################################\n"
   ]
  },
  {
   "cell_type": "code",
   "execution_count": 38,
   "metadata": {},
   "outputs": [
    {
     "name": "stdout",
     "output_type": "stream",
     "text": [
      "3\n"
     ]
    }
   ],
   "source": [
    "# Binary search\n",
    "\n",
    "\n",
    "def binary_search(mas, low, high, x):\n",
    "    if high >= low:\n",
    "        mid = (high + low) // 2\n",
    "\n",
    "        if mas[mid] == x:\n",
    "            return mid\n",
    "        elif mas[mid] > x:\n",
    "            return binary_search(mas, low, mid - 1, x)\n",
    "        else:\n",
    "            return binary_search(mas, mid + 1, high, x)\n",
    "    else:\n",
    "        return -1\n",
    "\n",
    "\n",
    "mas = [1, 2, 3, 4, 5, 6, 7, 8, 9, 10]\n",
    "print(binary_search(mas, 0, len(mas) - 1, 4))\n"
   ]
  },
  {
   "cell_type": "code",
   "execution_count": 39,
   "metadata": {},
   "outputs": [
    {
     "name": "stdout",
     "output_type": "stream",
     "text": [
      "3628800\n"
     ]
    }
   ],
   "source": [
    "# Factorial\n",
    "\n",
    "\n",
    "def fact(n):\n",
    "    if n == 0 or n == 1:\n",
    "        return 1\n",
    "    return n * fact(n - 1)\n",
    "\n",
    "\n",
    "print(fact(10))\n"
   ]
  },
  {
   "cell_type": "code",
   "execution_count": 40,
   "metadata": {},
   "outputs": [
    {
     "name": "stdout",
     "output_type": "stream",
     "text": [
      "55\n"
     ]
    }
   ],
   "source": [
    "# Fibonacci sequence\n",
    "\n",
    "\n",
    "def fib(n):\n",
    "    if n == 1 or n == 2:\n",
    "        return 1\n",
    "    return fib(n - 1) + fib(n - 2)\n",
    "\n",
    "\n",
    "print(fib(10))\n"
   ]
  },
  {
   "cell_type": "code",
   "execution_count": 41,
   "metadata": {},
   "outputs": [
    {
     "name": "stdout",
     "output_type": "stream",
     "text": [
      "ytrewq\n"
     ]
    }
   ],
   "source": [
    "# Reverse string\n",
    "\n",
    "\n",
    "def reverse(s):\n",
    "    l = list(s)\n",
    "\n",
    "    for idx in range(int((len(l)) / 2)):\n",
    "        l[idx], l[len(l) - 1 - idx] = l[len(l) - 1 - idx], l[idx]\n",
    "\n",
    "    return ''.join(l)\n",
    "\n",
    "\n",
    "s = 'qwerty'\n",
    "s = reverse(s)\n",
    "print(s)\n"
   ]
  },
  {
   "cell_type": "code",
   "execution_count": 42,
   "metadata": {},
   "outputs": [],
   "source": [
    "########################################################################################################################\n",
    "# Graphs\n",
    "########################################################################################################################\n"
   ]
  },
  {
   "cell_type": "code",
   "execution_count": 43,
   "metadata": {},
   "outputs": [
    {
     "name": "stdout",
     "output_type": "stream",
     "text": [
      "[0, 1, 4, 6, 7]\n"
     ]
    }
   ],
   "source": [
    "# Breadth-first search O(V + E), V - кол-во вершин (для хранения очереди поиска),\n",
    "# E - кол-во ребер (проход по всем ребрам)\n",
    "\n",
    "\n",
    "from typing import List\n",
    "\n",
    "\n",
    "def bfs(graph: List[List[int]], start_node: int, finish_node: int) -> List[int]:\n",
    "    queue = list()\n",
    "    queue.append([start_node])\n",
    "    visited_nodes = set()\n",
    "\n",
    "    while queue:\n",
    "        current_path = queue.pop(0)\n",
    "        current_node = current_path[-1]\n",
    "        visited_nodes.add(current_node)\n",
    "\n",
    "        if current_node == finish_node:\n",
    "            return current_path\n",
    "\n",
    "        for i in graph[current_node]:\n",
    "            if i not in visited_nodes:\n",
    "                new_path = current_path[:]\n",
    "                new_path.append(i)\n",
    "                queue.append(new_path)\n",
    "\n",
    "    return list()\n",
    "\n",
    "\n",
    "gr = [\n",
    "    [1, 2, 3],\n",
    "    [0, 4],\n",
    "    [0, 4, 5],\n",
    "    [0],\n",
    "    [1, 2, 6],\n",
    "    [2, 6],\n",
    "    [4, 5, 7, 8, 9],\n",
    "    [6, 9],\n",
    "    [6],\n",
    "    [7]\n",
    "]\n",
    "\n",
    "p = bfs(gr, 0, 7)\n",
    "print(p)\n"
   ]
  },
  {
   "cell_type": "code",
   "execution_count": null,
   "metadata": {},
   "outputs": [
    {
     "name": "stdout",
     "output_type": "stream",
     "text": [
      "[0, 2, 5, 6, 9, 7]\n"
     ]
    }
   ],
   "source": [
    "# Depth-first search\n",
    "\n",
    "\n",
    "from typing import List\n",
    "\n",
    "\n",
    "def dfs(graph: List[List[int]], start_node: int, finish_node: int) -> List[int]:\n",
    "    stack = list()\n",
    "    stack.append([start_node])\n",
    "    visited_nodes = set()\n",
    "\n",
    "    while stack:\n",
    "        current_path = stack.pop()\n",
    "        current_node = current_path[-1]\n",
    "        visited_nodes.add(current_node)\n",
    "\n",
    "        if current_node == finish_node:\n",
    "            return current_path\n",
    "\n",
    "        for i in graph[current_node]:\n",
    "            if i not in visited_nodes:\n",
    "                new_path = current_path[:]\n",
    "                new_path.append(i)\n",
    "                stack.append(new_path)\n",
    "\n",
    "    return list()\n",
    "\n",
    "\n",
    "gr = [\n",
    "    [1, 2, 3],\n",
    "    [0, 4],\n",
    "    [0, 4, 5],\n",
    "    [0],\n",
    "    [1, 2, 6],\n",
    "    [2, 6],\n",
    "    [4, 5, 7, 8, 9],\n",
    "    [6, 9],\n",
    "    [6],\n",
    "    [7]\n",
    "]\n",
    "\n",
    "p = dfs(gr, 0, 7)\n",
    "print(p)\n"
   ]
  },
  {
   "cell_type": "code",
   "execution_count": 63,
   "metadata": {},
   "outputs": [
    {
     "name": "stdout",
     "output_type": "stream",
     "text": [
      "{1: 2, 2: 10, 3: 1, 0: inf, 4: 7, 5: 8, 6: 10, 7: 15, 8: 14, 9: 13}\n"
     ]
    }
   ],
   "source": [
    "# Алгоритм Дейкстры\n",
    "\n",
    "\n",
    "from typing import Dict, List\n",
    "\n",
    "\n",
    "def find_lowest_cost_node(costs: Dict[int, int], processed: List[int]) -> int:\n",
    "    lowest_cost = float('inf')\n",
    "    lowest_cost_node = None\n",
    "    for node in costs:\n",
    "        cost = costs[node]\n",
    "        if cost < lowest_cost and node not in processed:\n",
    "            lowest_cost = cost\n",
    "            lowest_cost_node = node\n",
    "    return lowest_cost_node\n",
    "\n",
    "\n",
    "def dijkstra(graph: Dict[int, Dict[int, int]], start) -> List[int]:\n",
    "    costs = {}\n",
    "    parents = {}\n",
    "    for k in graph[start].keys():\n",
    "        costs[k] = graph[start][k]\n",
    "        parents[k] = start\n",
    "    parents[start] = None\n",
    "    for key in graph.keys():\n",
    "        if key not in costs:\n",
    "            costs[key] = float('inf')\n",
    "    processed = []\n",
    "\n",
    "    node = find_lowest_cost_node(costs, processed)\n",
    "    while node is not None:\n",
    "        cost = costs[node]\n",
    "        neighbors = graph[node]\n",
    "        for n in neighbors.keys():\n",
    "            new_cost = cost + neighbors[n]\n",
    "            if costs[n] > new_cost:\n",
    "                costs[n] = new_cost\n",
    "                parents[n] = node\n",
    "        processed.append(node)\n",
    "        node = find_lowest_cost_node(costs, processed)\n",
    "\n",
    "    print(costs)\n",
    "\n",
    "\n",
    "graph = {}\n",
    "\n",
    "graph[0] = {}\n",
    "graph[0][1] = 2\n",
    "graph[0][2] = 10\n",
    "graph[0][3] = 1\n",
    "\n",
    "graph[1] = {}\n",
    "graph[1][4] = 5\n",
    "\n",
    "graph[2] = {}\n",
    "graph[2][4] = 20\n",
    "graph[2][5] = 40\n",
    "\n",
    "graph[3] = {}\n",
    "\n",
    "graph[4] = {}\n",
    "graph[4][5] = 1\n",
    "graph[4][6] = 50\n",
    "\n",
    "graph[5] = {}\n",
    "graph[5][6] = 2\n",
    "\n",
    "graph[6] = {}\n",
    "graph[6][7] = 5\n",
    "graph[6][8] = 4\n",
    "graph[6][9] = 3\n",
    "\n",
    "graph[7] = {}\n",
    "graph[7][9] = 2\n",
    "\n",
    "graph[8] = {}\n",
    "\n",
    "graph[9] = {}\n",
    "\n",
    "dijkstra(graph, 0)\n"
   ]
  }
 ],
 "metadata": {
  "kernelspec": {
   "display_name": "Python 3 (ipykernel)",
   "language": "python",
   "name": "python3"
  },
  "language_info": {
   "codemirror_mode": {
    "name": "ipython",
    "version": 3
   },
   "file_extension": ".py",
   "mimetype": "text/x-python",
   "name": "python",
   "nbconvert_exporter": "python",
   "pygments_lexer": "ipython3",
   "version": "3.11.3"
  }
 },
 "nbformat": 4,
 "nbformat_minor": 2
}
