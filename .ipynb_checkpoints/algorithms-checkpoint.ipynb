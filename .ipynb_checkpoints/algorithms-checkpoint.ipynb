{
 "cells": [
  {
   "cell_type": "code",
   "execution_count": 1,
   "metadata": {},
   "outputs": [],
   "source": [
    "# Сортировки"
   ]
  },
  {
   "cell_type": "code",
   "execution_count": 12,
   "metadata": {},
   "outputs": [
    {
     "name": "stdout",
     "output_type": "stream",
     "text": [
      "[10, 9, 8, 7, 6, 5, 4, 3, 2, 1]\n",
      "[1, 2, 3, 4, 5, 6, 7, 8, 9, 10]\n"
     ]
    }
   ],
   "source": [
    "# Bubble sort\n",
    "\n",
    "\n",
    "def bubble_sort(mas):\n",
    "    for i in range(len(mas) - 1):\n",
    "        for j in range(len(mas) - 1 - i):\n",
    "            if mas[j] > mas[j + 1]:\n",
    "                mas[j], mas[j + 1] = mas[j + 1], mas[j]\n",
    "    return mas\n",
    "\n",
    "\n",
    "mas = [10, 9, 8, 7, 6, 5, 4, 3, 2, 1]\n",
    "print(mas)\n",
    "mas = bubble_sort(mas)\n",
    "print(mas)"
   ]
  },
  {
   "cell_type": "code",
   "execution_count": 15,
   "metadata": {},
   "outputs": [
    {
     "name": "stdout",
     "output_type": "stream",
     "text": [
      "[10, 9, 8, 7, 6, 5, 4, 3, 2, 1]\n",
      "[1, 2, 3, 4, 5, 6, 7, 8, 9, 10]\n"
     ]
    }
   ],
   "source": [
    "# Insertion sort\n",
    "\n",
    "\n",
    "def insertion_sort(mas):\n",
    "    for i in range(1, len(mas)):\n",
    "        key = mas[i]\n",
    "        j = i - 1\n",
    "        while j >= 0 and key < mas[j]:\n",
    "            mas[j + 1] = mas[j]\n",
    "            j -= 1\n",
    "        mas[j + 1] = key \n",
    "    return mas\n",
    "\n",
    "\n",
    "mas = [10, 9, 8, 7, 6, 5, 4, 3, 2, 1]\n",
    "print(mas)\n",
    "mas = insertion_sort(mas)\n",
    "print(mas)"
   ]
  },
  {
   "cell_type": "code",
   "execution_count": 29,
   "metadata": {},
   "outputs": [
    {
     "name": "stdout",
     "output_type": "stream",
     "text": [
      "[10, 9, 8, 7, 6, 5, 4, 3, 2, 1]\n",
      "[1, 2, 3, 4, 5, 6, 7, 8, 9, 10]\n"
     ]
    }
   ],
   "source": [
    "# Quick sort\n",
    "\n",
    "\n",
    "def partition(mas, low, high):\n",
    "    pivot = mas[int((low + high) / 2)]\n",
    "    i = low\n",
    "    j = high\n",
    "    \n",
    "    while True:\n",
    "        while mas[i] < pivot:\n",
    "            i = i + 1\n",
    "        while mas[j] > pivot:\n",
    "            j = j - 1\n",
    "        if i >= j:\n",
    "            return j\n",
    "        mas[i], mas[j] = mas[j], mas[i]\n",
    "\n",
    "def quick_sort(mas, low, high):\n",
    "    if len(mas) == 1:\n",
    "        return mas\n",
    "    if low < high:\n",
    "        pi = partition(mas, low, high)\n",
    "        quick_sort(mas, low, pi - 1)\n",
    "        quick_sort(mas, pi + 1, high)\n",
    "    return mas\n",
    "\n",
    "\n",
    "mas = [10, 9, 8, 7, 6, 5, 4, 3, 2, 1]\n",
    "print(mas)\n",
    "mas = quick_sort(mas, 0, len(mas) - 1)\n",
    "print(mas)"
   ]
  },
  {
   "cell_type": "code",
   "execution_count": 9,
   "metadata": {},
   "outputs": [
    {
     "name": "stdout",
     "output_type": "stream",
     "text": [
      "[10, 9, 8, 7, 6, 5, 4, 3, 2, 1]\n",
      "[1, 2, 3, 4, 5, 6, 7, 8, 9, 10]\n"
     ]
    }
   ],
   "source": [
    "# Merge sort\n",
    "\n",
    "\n",
    "def merge_sort(mas):\n",
    "    if len(mas) < 2:\n",
    "        return mas\n",
    "    else:\n",
    "        middle = int(len(mas) / 2)\n",
    "        left = merge_sort(mas[:middle])\n",
    "        right = merge_sort(mas[middle:])\n",
    "        return merge(left, right)\n",
    "\n",
    "def merge(left, right):\n",
    "    result = []\n",
    "    i, j = 0, 0\n",
    "\n",
    "    while i < len(left) and j < len(right):\n",
    "        if left[i] < right[j]:\n",
    "            result.append(left[i])\n",
    "            i += 1\n",
    "        else:\n",
    "            result.append(right[j])\n",
    "            j += 1\n",
    "\n",
    "    while i < len(left):\n",
    "        result.append(left[i])\n",
    "        i += 1\n",
    "\n",
    "    while j < len(right):\n",
    "        result.append(right[j])\n",
    "        j += 1\n",
    "\n",
    "    return result\n",
    "\n",
    "\n",
    "mas = [10, 9, 8, 7, 6, 5, 4, 3, 2, 1]\n",
    "print(mas)\n",
    "mas = merge_sort(mas)\n",
    "print(mas)"
   ]
  },
  {
   "cell_type": "code",
   "execution_count": null,
   "metadata": {},
   "outputs": [],
   "source": [
    "##############################################################################################################"
   ]
  },
  {
   "cell_type": "code",
   "execution_count": 62,
   "metadata": {},
   "outputs": [
    {
     "name": "stdout",
     "output_type": "stream",
     "text": [
      "3\n"
     ]
    }
   ],
   "source": [
    "# Binary search\n",
    "\n",
    "\n",
    "def binary_search(mas, low, high, x):\n",
    "    if high >= low:\n",
    "\n",
    "        mid = (high + low) // 2\n",
    "\n",
    "        if mas[mid] == x:\n",
    "            return mid\n",
    "        elif mas[mid] > x:\n",
    "            return binary_search(mas, low, mid - 1, x)\n",
    "        else:\n",
    "            return binary_search(mas, mid + 1, high, x)\n",
    "    else:\n",
    "        return -1\n",
    "\n",
    "\n",
    "mas = [1, 2, 3, 4, 5, 6, 7, 8, 9, 10]\n",
    "print(binary_search(mas, 0, len(mas) - 1, 4))"
   ]
  },
  {
   "cell_type": "code",
   "execution_count": null,
   "metadata": {},
   "outputs": [],
   "source": [
    "##############################################################################################################"
   ]
  },
  {
   "cell_type": "code",
   "execution_count": 4,
   "metadata": {},
   "outputs": [
    {
     "name": "stdout",
     "output_type": "stream",
     "text": [
      "3628800\n"
     ]
    }
   ],
   "source": [
    "# Вычисление факториала\n",
    "\n",
    "\n",
    "def fact(n):\n",
    "    if n == 0 or n == 1:\n",
    "        return 1\n",
    "    return n * fact(n - 1)\n",
    "\n",
    "\n",
    "print(fact(10))"
   ]
  },
  {
   "cell_type": "code",
   "execution_count": null,
   "metadata": {},
   "outputs": [],
   "source": [
    "##############################################################################################################"
   ]
  },
  {
   "cell_type": "code",
   "execution_count": 8,
   "metadata": {},
   "outputs": [
    {
     "name": "stdout",
     "output_type": "stream",
     "text": [
      "55\n"
     ]
    }
   ],
   "source": [
    "# Вычисление чисел Фибоначчи\n",
    "\n",
    "\n",
    "def fib(n):\n",
    "    if n == 1 or n == 2:\n",
    "        return 1\n",
    "    return fib(n - 1) + fib(n - 2)\n",
    "\n",
    "\n",
    "print(fib(10))"
   ]
  },
  {
   "cell_type": "code",
   "execution_count": null,
   "metadata": {},
   "outputs": [],
   "source": [
    "##############################################################################################################"
   ]
  },
  {
   "cell_type": "code",
   "execution_count": 22,
   "metadata": {},
   "outputs": [
    {
     "name": "stdout",
     "output_type": "stream",
     "text": [
      "ytrewq\n"
     ]
    }
   ],
   "source": [
    "# Reverse string\n",
    "\n",
    "\n",
    "def reverse(s):\n",
    "    l = list(s)\n",
    "\n",
    "    for idx in range(int((len(l)) / 2)):\n",
    "        l[idx], l[len(l) - 1 - idx] = l[len(l) - 1 - idx], l[idx]\n",
    "\n",
    "    return ''.join(l)\n",
    "\n",
    "\n",
    "s = 'qwerty'\n",
    "s = reverse(s)\n",
    "print(s)"
   ]
  },
  {
   "cell_type": "code",
   "execution_count": null,
   "metadata": {},
   "outputs": [],
   "source": [
    "##############################################################################################################"
   ]
  },
  {
   "cell_type": "code",
   "execution_count": 52,
   "metadata": {},
   "outputs": [
    {
     "name": "stdout",
     "output_type": "stream",
     "text": [
      "[0, 1, 4, 6, 7]\n"
     ]
    }
   ],
   "source": [
    "# Breadth-first search\n",
    "\n",
    "\n",
    "from typing import List\n",
    "\n",
    "\n",
    "def bfs(graph: List[List[int]], start_node: int, finish_node: int) -> List[int]:\n",
    "    queue = list()\n",
    "    queue.append([start_node])\n",
    "    visited_nodes = set()\n",
    "\n",
    "    while queue:\n",
    "        current_path = queue.pop(0)\n",
    "        current_node = current_path[-1]\n",
    "        visited_nodes.add(current_node)\n",
    "\n",
    "        if current_node == finish_node:\n",
    "            return current_path\n",
    "\n",
    "        for i in graph[current_node]:\n",
    "            if i not in visited_nodes:\n",
    "                new_path = current_path[:]\n",
    "                new_path.append(i)\n",
    "                queue.append(new_path)\n",
    "\n",
    "    return list()\n",
    "\n",
    "\n",
    "gr = [\n",
    "    [1, 2, 3],\n",
    "    [0, 4],\n",
    "    [0, 4, 5],\n",
    "    [0],\n",
    "    [1, 2, 6],\n",
    "    [2, 6],\n",
    "    [4, 5, 7, 8, 9],\n",
    "    [6, 9],\n",
    "    [6],\n",
    "    [7]\n",
    "]\n",
    "\n",
    "p = bfs(gr, 0, 7)\n",
    "print(p)"
   ]
  },
  {
   "cell_type": "code",
   "execution_count": 51,
   "metadata": {},
   "outputs": [
    {
     "name": "stdout",
     "output_type": "stream",
     "text": [
      "[0, 2, 5, 6, 9, 7]\n"
     ]
    }
   ],
   "source": [
    "# Depth-first search\n",
    "\n",
    "\n",
    "from typing import List\n",
    "\n",
    "\n",
    "def dfs(graph: List[List[int]], start_node: int, finish_node: int) -> List[int]:\n",
    "    stack = list()\n",
    "    stack.append([start_node])\n",
    "    visited_nodes = set()\n",
    "\n",
    "    while stack:\n",
    "        current_path = stack.pop()\n",
    "        current_node = current_path[-1]\n",
    "        visited_nodes.add(current_node)\n",
    "\n",
    "        if current_node == finish_node:\n",
    "            return current_path\n",
    "\n",
    "        for i in graph[current_node]:\n",
    "            if i not in visited_nodes:\n",
    "                new_path = current_path[:]\n",
    "                new_path.append(i)\n",
    "                stack.append(new_path)\n",
    "\n",
    "    return list()\n",
    "\n",
    "\n",
    "gr = [\n",
    "    [1, 2, 3],\n",
    "    [0, 4],\n",
    "    [0, 4, 5],\n",
    "    [0],\n",
    "    [1, 2, 6],\n",
    "    [2, 6],\n",
    "    [4, 5, 7, 8, 9],\n",
    "    [6, 9],\n",
    "    [6],\n",
    "    [7]\n",
    "]\n",
    "\n",
    "p = dfs(gr, 0, 7)\n",
    "print(p)"
   ]
  },
  {
   "cell_type": "code",
   "execution_count": null,
   "metadata": {},
   "outputs": [],
   "source": [
    "##############################################################################################################"
   ]
  }
 ],
 "metadata": {
  "kernelspec": {
   "display_name": "Python 3 (ipykernel)",
   "language": "python",
   "name": "python3"
  },
  "language_info": {
   "codemirror_mode": {
    "name": "ipython",
    "version": 3
   },
   "file_extension": ".py",
   "mimetype": "text/x-python",
   "name": "python",
   "nbconvert_exporter": "python",
   "pygments_lexer": "ipython3",
   "version": "3.9.13"
  }
 },
 "nbformat": 4,
 "nbformat_minor": 2
}
